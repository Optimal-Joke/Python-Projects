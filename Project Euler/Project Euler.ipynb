{
 "cells": [
  {
   "cell_type": "markdown",
   "metadata": {},
   "source": [
    "# Project Euler"
   ]
  },
  {
   "cell_type": "markdown",
   "metadata": {},
   "source": [
    "## Global Functions"
   ]
  },
  {
   "cell_type": "code",
   "execution_count": 40,
   "metadata": {},
   "outputs": [],
   "source": [
    "import numpy as np\n",
    "\n",
    "\n",
    "def is_prime(n):\n",
    "    m = np.absolute(n)\n",
    "    if m == 1:\n",
    "        return False\n",
    "    elif m < 4:\n",
    "        return True\n",
    "    elif m % 2 == 0:\n",
    "        return False\n",
    "    elif m < 9:\n",
    "        return True\n",
    "    elif m % 3 == 0:\n",
    "        return False\n",
    "    else:\n",
    "        r = np.floor(np.sqrt(m))\n",
    "        f = 5\n",
    "        while f <= r:\n",
    "            if m % f == 0:\n",
    "                return False\n",
    "            if m % (f+2) == 0:\n",
    "                return False\n",
    "            f += 6\n",
    "        return True\n",
    "\n",
    "def proper_divisors(n):\n",
    "    proper_divisors = [1]\n",
    "    for x in range(2, int(np.sqrt(n))+1):\n",
    "        if n % x == 0:\n",
    "            proper_divisors.append(x)\n",
    "            if x != n//x:\n",
    "                proper_divisors.append(n//x)\n",
    "    proper_divisors.sort()\n",
    "    return proper_divisors\n",
    "\n",
    "def is_amicable(n):\n",
    "    m = sum(proper_divisors(n))\n",
    "    sum_divisors = sum(proper_divisors(m))\n",
    "    if sum_divisors == n:\n",
    "        return True, m\n",
    "    else:\n",
    "        return False, m\n",
    "\n",
    "def sumPrimes(upto):\n",
    "    sum_primes = 0\n",
    "    for x in range(1, upto):\n",
    "        if is_prime(x):\n",
    "            sum_primes += x\n",
    "    return sum_primes"
   ]
  },
  {
   "cell_type": "markdown",
   "metadata": {},
   "source": [
    "### Problem 1: Multiples of 3 and 5"
   ]
  },
  {
   "cell_type": "code",
   "execution_count": 41,
   "metadata": {},
   "outputs": [
    {
     "output_type": "stream",
     "name": "stdout",
     "text": "233168\n"
    }
   ],
   "source": [
    "def sum_multiples_of(highest_num):\n",
    "    sum = 0\n",
    "    for i in range(1, highest_num):\n",
    "        if (i % 3 == 0) | (i % 5 == 0):\n",
    "            sum += i\n",
    "    return sum\n",
    "\n",
    "sum_multiples = sum_multiples_of(1000)\n",
    "print(sum_multiples)"
   ]
  },
  {
   "cell_type": "markdown",
   "metadata": {},
   "source": [
    "### Problem 2: Even Fibonacci Numbers"
   ]
  },
  {
   "cell_type": "code",
   "execution_count": 42,
   "metadata": {},
   "outputs": [
    {
     "output_type": "stream",
     "name": "stdout",
     "text": "4613732\n"
    }
   ],
   "source": [
    "fib_seqence = [1, 2]\n",
    "while fib_seqence[-1] < 4000000:\n",
    "    next_num = fib_seqence[-1] + fib_seqence[-2]\n",
    "    if next_num > 4000000:\n",
    "        break\n",
    "    fib_seqence.append(next_num)\n",
    "\n",
    "sum_evens = 0\n",
    "for num in fib_seqence:\n",
    "    if num % 2 == 0:\n",
    "        sum_evens += num\n",
    "\n",
    "print(sum_evens)"
   ]
  },
  {
   "cell_type": "markdown",
   "metadata": {},
   "source": [
    "### Problem 3: Largest prime factor"
   ]
  },
  {
   "cell_type": "code",
   "execution_count": 43,
   "metadata": {},
   "outputs": [
    {
     "output_type": "stream",
     "name": "stdout",
     "text": "6857\n"
    }
   ],
   "source": [
    "def largest_prime_factor(num):\n",
    "    prime_factors = []\n",
    "    for i in range(2, num):\n",
    "        if (num == 1):\n",
    "            break\n",
    "        elif (num % i == 0):\n",
    "            if is_prime(i):\n",
    "                prime_factors.append(i)\n",
    "                num //= i\n",
    "    print(prime_factors[-1])\n",
    "\n",
    "largest_prime_factor(600851475143)"
   ]
  },
  {
   "cell_type": "markdown",
   "metadata": {},
   "source": [
    "### Problem 4: Largest palindrome product"
   ]
  },
  {
   "cell_type": "code",
   "execution_count": 44,
   "metadata": {},
   "outputs": [
    {
     "output_type": "stream",
     "name": "stdout",
     "text": "906609\n"
    }
   ],
   "source": [
    "largest_palindrome = 0\n",
    "for x in range(100, 1000):\n",
    "    for y in range(100, 1000):\n",
    "        possible_pal = str(x*y)\n",
    "        if (possible_pal == possible_pal[::-1]) & (int(possible_pal) > largest_palindrome):\n",
    "            largest_palindrome = int(possible_pal)\n",
    "\n",
    "print(largest_palindrome)"
   ]
  },
  {
   "cell_type": "markdown",
   "metadata": {},
   "source": [
    "### Problem 5: Smallest Multiple"
   ]
  },
  {
   "cell_type": "code",
   "execution_count": 45,
   "metadata": {},
   "outputs": [],
   "source": [
    "# smallest_num = 17\n",
    "# factors = []\n",
    "# max_factors = 0\n",
    "# while len(factors) < 20:\n",
    "#     for i in range(1, 21):\n",
    "#         if smallest_num % i != 0:\n",
    "#             if len(factors) > max_factors:\n",
    "#                 max_factors = len(factors)\n",
    "#             smallest_num += 17\n",
    "#             factors = []\n",
    "#             break\n",
    "#         else:\n",
    "#             factors.append(i)\n",
    "# print(smallest_num)"
   ]
  },
  {
   "cell_type": "markdown",
   "metadata": {},
   "source": [
    "### Problem 6: Sum square difference"
   ]
  },
  {
   "cell_type": "code",
   "execution_count": 46,
   "metadata": {},
   "outputs": [
    {
     "output_type": "stream",
     "name": "stdout",
     "text": "25164150\n"
    }
   ],
   "source": [
    "numbers = range(1, 101)\n",
    "sum_squares = 0\n",
    "for num in numbers:\n",
    "    square = num**2\n",
    "    sum_squares += square\n",
    "square_sum = 0\n",
    "for num in numbers:\n",
    "    square_sum += num\n",
    "square_sum **= 2\n",
    "\n",
    "diff = square_sum - sum_squares\n",
    "\n",
    "print(diff)"
   ]
  },
  {
   "cell_type": "markdown",
   "metadata": {},
   "source": [
    "### Problem 7: 10001st prime"
   ]
  },
  {
   "cell_type": "code",
   "execution_count": 47,
   "metadata": {},
   "outputs": [
    {
     "output_type": "stream",
     "name": "stdout",
     "text": "104743\n"
    }
   ],
   "source": [
    "prime_numbers = []\n",
    "\n",
    "num = 2\n",
    "while len(prime_numbers) < 10001:\n",
    "    if is_prime(num):\n",
    "        prime_numbers.append(num)\n",
    "    num += 1\n",
    "\n",
    "print(prime_numbers[-1])"
   ]
  },
  {
   "cell_type": "markdown",
   "metadata": {},
   "source": [
    "### Problem 8: Largest product in a series"
   ]
  },
  {
   "cell_type": "code",
   "execution_count": 48,
   "metadata": {},
   "outputs": [],
   "source": [
    "# number = \"7316717653133062491922511967442657474235534919493496983520312774506326239578318016984801869478851843858615607891129494954595017379583319528532088055111254069874715852386305071569329096329522744304355766896648950445244523161731856403098711121722383113622298934233803081353362766142828064444866452387493035890729629049156044077239071381051585930796086670172427121883998797908792274921901699720888093776657273330010533678812202354218097512545405947522435258490771167055601360483958644670632441572215539753697817977846174064955149290862569321978468622482839722413756570560574902614079729686524145351004748216637048440319989000889524345065854122758866688116427171479924442928230863465674813919123162824586178664583591245665294765456828489128831426076900422421902267105562632111110937054421750694165896040807198403850962455444362981230987879927244284909188845801561660979191338754992005240636899125607176060588611646710940507754100225698315520005593572972571636269561882670428252483600823257530420752963450\"\n",
    "# largest_product = 0\n",
    "# for x in range(1, len(number)-13):\n",
    "#     product = 1\n",
    "#     for i in range(1, 14):\n",
    "#         product *= int(number[x+i])\n",
    "#     if product > largest_product:\n",
    "#         largest_product = product\n",
    "# print(largest_product)"
   ]
  },
  {
   "cell_type": "markdown",
   "metadata": {},
   "source": [
    "### Problem 9: Special Pythagorean triplet"
   ]
  },
  {
   "cell_type": "code",
   "execution_count": 49,
   "metadata": {},
   "outputs": [],
   "source": [
    "# for a in range(1, 500):\n",
    "#     for b in range(1, 500):\n",
    "#         for c in range(1, 500):\n",
    "#             if (a+b+c==1000) & (a<b<c):\n",
    "#                 if (a**2 + b**2 == c**2):\n",
    "#                     print(f\"(a,b,c) = ({a},{b},{c})\")\n",
    "#                     print(\"abc = \" + str(a*b*c))"
   ]
  },
  {
   "cell_type": "markdown",
   "metadata": {},
   "source": [
    "### Problem 10: Summation of primes"
   ]
  },
  {
   "cell_type": "code",
   "execution_count": 50,
   "metadata": {},
   "outputs": [],
   "source": [
    "# print(sumPrimes(2000000))"
   ]
  },
  {
   "cell_type": "markdown",
   "metadata": {},
   "source": [
    "### Problem 11: Largest product in a grid"
   ]
  },
  {
   "cell_type": "code",
   "execution_count": null,
   "metadata": {},
   "outputs": [],
   "source": []
  },
  {
   "cell_type": "markdown",
   "metadata": {},
   "source": [
    "### Problem 12: Highly divisible triangular number (needs optimizing)"
   ]
  },
  {
   "cell_type": "code",
   "execution_count": 51,
   "metadata": {},
   "outputs": [],
   "source": [
    "# def nth_tri_number(n):\n",
    "#     tri_number = n*(n+1)//2\n",
    "#     return tri_number\n",
    "\n",
    "# def find_factors(n):\n",
    "#     factors = []\n",
    "#     for i in range(1, n+1):\n",
    "#         if (n % i) == 0:\n",
    "#             factors.append(i)\n",
    "#     return factors\n",
    "\n",
    "# tri_nums_w_factors = {}\n",
    "# i = 0\n",
    "# max_num_divisors = 0\n",
    "# answer = \"\"\n",
    "# while max_num_divisors <= 500:\n",
    "#     i+=1\n",
    "#     tri_number = nth_tri_number(i)\n",
    "#     tri_num_factors = find_factors(tri_number)\n",
    "#     tri_nums_w_factors[tri_number] = tri_num_factors\n",
    "#     num_divisors = len(tri_num_factors)\n",
    "#     if num_divisors > max_num_divisors:\n",
    "#         print(num_divisors)\n",
    "#         max_num_divisors = num_divisors\n",
    "#         answer = tri_number\n",
    "# print(answer)"
   ]
  },
  {
   "cell_type": "markdown",
   "metadata": {},
   "source": [
    "### Problem 13: Large sum"
   ]
  },
  {
   "cell_type": "code",
   "execution_count": 52,
   "metadata": {},
   "outputs": [
    {
     "output_type": "stream",
     "name": "stdout",
     "text": "5537376230\n"
    }
   ],
   "source": [
    "number = \"37107287533902102798797998220837590246510135740250463769376774900097126481248969700780504170182605387432498619952474105947423330951305812372661730962991942213363574161572522430563301811072406154908250230675882075393461711719803104210475137780632466768926167069662363382013637841838368417873436172675728112879812849979408065481931592621691275889832738442742289174325203219235894228767964876702721893184745144573600130643909116721685684458871160315327670386486105843025439939619828917593665686757934951621764571418565606295021572231965867550793241933316490635246274190492910143244581382266334794475817892575867718337217661963751590579239728245598838407582035653253593990084026335689488301894586282278288018119938482628201427819413994056758715117009439035398664372827112653829987240784473053190104293586865155060062958648615320752733719591914205172558297169388870771546649911559348760353292171497005693854370070576826684624621495650076471787294438377604532826541087568284431911906346940378552177792951453612327252500029607107508256381565671088525835072145876576172410976447339110607218265236877223636045174237069058518606604482076212098132878607339694128114266041808683061932846081119106155694051268969251934325451728388641918047049293215058642563049483624672216484350762017279180399446930047329563406911573244438690812579451408905770622942919710792820955037687525678773091862540744969844508330393682126183363848253301546861961243487676812975343759465158038628759287849020152168555482871720121925776695478182833757993103614740356856449095527097864797581167263201004368978425535399209318374414978068609844840309812907779179908821879532736447567559084803087086987551392711854517078544161852424320693150332599594068957565367821070749269665376763262354472106979395067965269474259770973916669376304263398708541052684708299085211399427365734116182760315001271653786073615010808570091499395125570281987460043753582903531743471732693212357815498262974255273730794953759765105305946966067683156574377167401875275889028025717332296191766687138199318110487701902712526768027607800301367868099252546340106163286652636270218540497705585629946580636237993140746255962240744869082311749777923654662572469233228109171419143028819710328859780666976089293863828502533340334413065578016127815921815005561868836468420090470230530811728164304876237919698424872550366387845831148769693215490281042402013833512446218144177347063783299490636259666498587618221225225512486764533677201869716985443124195724099139590089523100588229554825530026352078153229679624948164195386821877476085327132285723110424803456124867697064507995236377742425354112916842768655389262050249103265729672370191327572567528565324825826546309220705859652229798860272258331913126375147341994889534765745501184957014548792889848568277260777137214037988797153829820378303147352772158034814451349137322665138134829543829199918180278916522431027392251122869539409579530664052326325380441000596549391598795936352974615218550237130764225512118369380358038858490341698116222072977186158236678424689157993532961922624679571944012690438771072750481023908955235974572318970677254791506150550495392297953090112996751986188088225875314529584099251203829009407770775672113067397083047244838165338735023408456470580773088295917476714036319800818712901187549131054712658197623331044818386269515456334926366572897563400500428462801835170705278318394258821455212272512503275512160354698120058176216521282765275169129689778932238195734329339946437501907836945765883352399886755061649651847751807381688378610915273579297013376217784275219262340194239963916804498399317331273132924185707147349566916674687634660915035914677504995186714302352196288948901024233251169136196266227326746080059154747183079839286853520694694454072476841822524674417161514036427982273348055556214818971426179103425986472045168939894221798260880768528778364618279934631376775430780936333301898264209010848802521674670883215120185883543223812876952786713296124747824645386369930090493103636197638780396218407357239979422340623539380833965132740801111666627891981488087797941876876144230030984490851411606618262936828367647447792391803351109890697907148578694408955299065364044742557608365997664579509666024396409905389607120198219976047599490197230297649139826800329731560371200413779037855660850892521673093931987275027546890690370753941304265231501194809377245048795150954100921645863754710598436791786391670211874924319957006419179697775990283006991536871371193661495281130587638027841075444973307840789923115535562561142322423255033685442488917353448899115014406480203690680639606723221932041495354150312888033953605329934036800697771065056663195481234880673210146739058568557934581403627822703280826165707739483275922328459417065250945123252306082291880205877731971983945018088807242966198081119777158542502016545090413245809786882778948721859617721078384350691861554356628840622574736922845095162084960398013400172393067166682355524525280460972253503534226472524250874054075591789781264330331690\"\n",
    "\n",
    "list_of_numbers = [number[i:i+50] for i in range(0, len(number), 50)]\n",
    "\n",
    "large_sum = 0\n",
    "for n in list_of_numbers:\n",
    "    n_int = int(n)\n",
    "    large_sum += n_int\n",
    "\n",
    "large_sum_str = str(large_sum)\n",
    "print(large_sum_str[:10])"
   ]
  },
  {
   "cell_type": "markdown",
   "metadata": {},
   "source": [
    "### Problem 14: Longest Collatz sequence"
   ]
  },
  {
   "cell_type": "code",
   "execution_count": 53,
   "metadata": {},
   "outputs": [],
   "source": [
    "# longest_sequence = 0\n",
    "# def collatz_seq(n):\n",
    "#     collatz_sequence = []\n",
    "#     while True:\n",
    "#         collatz_sequence.append(n)\n",
    "#         if n == 1:\n",
    "#             break\n",
    "#         elif n%2 == 0:\n",
    "#             n //= 2\n",
    "#         else:\n",
    "#             n = 3*n + 1\n",
    "#     return collatz_sequence\n",
    "\n",
    "# longest_seq = 0\n",
    "# start_w_longest_seq = 0\n",
    "# upper_limit = 1000000\n",
    "# for n in range(1, upper_limit):\n",
    "#     seq = collatz_seq(n)\n",
    "#     len_seq = len(seq)\n",
    "#     if len_seq > longest_seq:\n",
    "#         longest_seq = len_seq\n",
    "#         start_w_longest_seq = n\n",
    "\n",
    "# print(f\"\"\"starting number of longest sequence = {start_w_longest_seq}\n",
    "# length of sequence = {longest_seq}\"\"\")"
   ]
  },
  {
   "cell_type": "markdown",
   "metadata": {},
   "source": [
    "### Problem 15: Lattice paths"
   ]
  },
  {
   "cell_type": "code",
   "execution_count": null,
   "metadata": {},
   "outputs": [],
   "source": []
  },
  {
   "cell_type": "markdown",
   "metadata": {},
   "source": [
    "### Problem 16: Power Digit Sum"
   ]
  },
  {
   "cell_type": "code",
   "execution_count": 54,
   "metadata": {},
   "outputs": [
    {
     "output_type": "stream",
     "name": "stdout",
     "text": "1366\n"
    }
   ],
   "source": [
    "def sum_power_digits(number, power):\n",
    "    n = str(number**power)\n",
    "    sum = 0\n",
    "    for digit in n:\n",
    "        sum += int(digit)\n",
    "    print(sum)\n",
    "\n",
    "sum_power_digits(2,1000)"
   ]
  },
  {
   "cell_type": "markdown",
   "metadata": {},
   "source": [
    "### Problem 17: Number letter counts"
   ]
  },
  {
   "cell_type": "code",
   "execution_count": 55,
   "metadata": {},
   "outputs": [
    {
     "output_type": "stream",
     "name": "stdout",
     "text": "21124\n"
    }
   ],
   "source": [
    "num_to_word = {\"0\":\"zero\", \"1\":\"one\", \"2\":\"two\", \"3\":\"three\", \"4\":\"four\", \"5\":\"five\", \"6\":\"six\", \"7\":\"seven\", \"8\":\"eight\", \"9\":\"nine\", \"10\":\"ten\", \"11\":\"eleven\", \"12\":\"twelve\", \"13\":\"thirteen\", \"14\":\"fourteen\", \"15\":\"fifteen\", \"16\":\"sixteen\", \"17\":\"seventeen\", \"18\":\"eighteen\", \"19\":\"nineteen\", \"20\":\"twenty\", \"30\":\"thirty\", \"40\":\"forty\", \"50\":\"fifty\", \"60\":\"sixty\", \"70\":\"seventy\", \"80\":\"eighty\", \"90\":\"ninety\"}\n",
    "def spell_number(n):\n",
    "    n_str = str(n)\n",
    "    if n_str in num_to_word.keys():\n",
    "        spell = num_to_word[n_str]\n",
    "    elif len(n_str) == 2:\n",
    "        spell = num_to_word[n_str[0]+\"0\"]+num_to_word[n_str[1]]\n",
    "    elif (len(n_str) == 3) & (n_str[1:] == \"00\"):\n",
    "        spell = num_to_word[n_str[0]]+\"hundred\"\n",
    "    elif (len(n_str) == 3) & (n_str[1] == \"0\"):\n",
    "        spell = num_to_word[n_str[0]]+\"hundredand\"+num_to_word[n_str[2]]\n",
    "    elif (len(n_str) == 3) & (n_str[1:] in num_to_word.keys()):\n",
    "        spell = num_to_word[n_str[0]]+\"hundredand\"+num_to_word[n_str[1:]]\n",
    "    elif len(n_str) == 3:\n",
    "        spell = num_to_word[n_str[0]]+\"hundredand\"+num_to_word[n_str[1]+\"0\"]+num_to_word[n_str[2]]\n",
    "    elif len(n_str) == 4:\n",
    "        spell = num_to_word[n_str[0]]+\"thousand\"\n",
    "    return spell\n",
    "\n",
    "total_num_letters = 0\n",
    "for x in range(1,1001):\n",
    "    num_letters = len(spell_number(x))\n",
    "    total_num_letters += num_letters\n",
    "print(total_num_letters)"
   ]
  },
  {
   "cell_type": "markdown",
   "metadata": {},
   "source": [
    "### Problem 18: Maximum path sum I"
   ]
  },
  {
   "cell_type": "code",
   "execution_count": 56,
   "metadata": {},
   "outputs": [
    {
     "output_type": "stream",
     "name": "stdout",
     "text": "1074\n"
    }
   ],
   "source": [
    "pyramid = \"\"\"75\n",
    "95 64\n",
    "17 47 82\n",
    "18 35 87 10\n",
    "20 04 82 47 65\n",
    "19 01 23 75 03 34\n",
    "88 02 77 73 07 63 67\n",
    "99 65 04 28 06 16 70 92\n",
    "41 41 26 56 83 40 80 70 33\n",
    "41 48 72 33 47 32 37 16 94 29\n",
    "53 71 44 65 25 43 91 52 97 51 14\n",
    "70 11 33 28 77 73 17 78 39 68 17 57\n",
    "91 71 52 38 17 14 91 43 58 50 27 29 48\n",
    "63 66 04 68 89 53 67 30 73 16 69 87 40 31\n",
    "04 62 98 27 23 09 70 98 73 93 38 53 60 04 23\n",
    "\"\"\"\n",
    "\n",
    "pyramid_split = pyramid.splitlines()                       # turns the original pyramid\n",
    "lines = [line.split() for line in pyramid_split]           # into an inverted pyramid of\n",
    "lists = [list(map(int, line)) for line in lines]           # integer lists\n",
    "lists.reverse()\n",
    "\n",
    "for i in range(len(lists)-1):\n",
    "    for num in range(len(lists[i])-1):\n",
    "        if lists[i][num] > lists[i][num+1]:\n",
    "            lists[i+1][num] += lists[i][num]\n",
    "        else:\n",
    "            lists[i+1][num] += lists[i][num+1]\n",
    "print(lists[-1][0])"
   ]
  },
  {
   "cell_type": "markdown",
   "metadata": {},
   "source": [
    "### Problem 19: Counting Sundays (incomplete)"
   ]
  },
  {
   "cell_type": "code",
   "execution_count": 57,
   "metadata": {},
   "outputs": [],
   "source": [
    "month_day_noleap = {1:31, 2:28, 3:31, 4:30, 5:31, 6:30, 7:31, 8:31, 9:31, 10:31, 11:30, 12:31}\n",
    "month_day_leap = {1:31, 2:29, 3:31, 4:30, 5:31, 6:30, 7:31, 8:31, 9:31, 10:31, 11:30, 12:31}\n",
    "days_of_week = {1:\"Monday\", 2:\"Tuesday\", 3:\"Wednesday\", 4:\"Thursday\", 5:\"Friday\", 6:\"Saturday\", 7:\"Sunday\"}\n",
    "\n",
    "def is_leapyear(year):\n",
    "    if year % 4 == 0:\n",
    "        if year % 400 == 0:\n",
    "            return True\n",
    "        elif year % 100 == 0:\n",
    "            return False\n",
    "        else: \n",
    "            return True\n",
    "    else:\n",
    "        return False\n",
    "\n",
    "def dayofweek(day, month, year):\n",
    "    if not is_leapyear(year):\n",
    "        for (month, days) in month_day_noleap.items():\n",
    "            last_day = days % len(days_of_week)\n",
    "            print(last_day)"
   ]
  },
  {
   "cell_type": "markdown",
   "metadata": {},
   "source": [
    "### Problem 20: Factorial digit sum"
   ]
  },
  {
   "cell_type": "code",
   "execution_count": 58,
   "metadata": {},
   "outputs": [
    {
     "output_type": "stream",
     "name": "stdout",
     "text": "648\n"
    }
   ],
   "source": [
    "def factorial(n):\n",
    "    n_fact = 1\n",
    "    for x in range(2, n+1):\n",
    "        n_fact *= x\n",
    "    return n_fact\n",
    "\n",
    "def sum_digits(num):\n",
    "    num_str = str(num)\n",
    "    sum_digits = 0\n",
    "    for digit in num_str:\n",
    "        sum_digits += int(digit)\n",
    "    return sum_digits\n",
    "\n",
    "print(sum_digits(factorial(100)))"
   ]
  },
  {
   "cell_type": "markdown",
   "metadata": {},
   "source": [
    "### Problem 21: Amicable numbers"
   ]
  },
  {
   "cell_type": "code",
   "execution_count": 59,
   "metadata": {},
   "outputs": [
    {
     "output_type": "stream",
     "name": "stdout",
     "text": "31626\n"
    }
   ],
   "source": [
    "def sum_amicables(max):\n",
    "    amicables = []\n",
    "    for i in range(1, max):\n",
    "        if not i in amicables:\n",
    "            if (is_amicable(i)[0] == True) & (i != is_amicable(i)[1]):\n",
    "                amicables.append(i)\n",
    "                amicables.append(is_amicable(i)[1])\n",
    "    sum_amicables = sum(amicables)\n",
    "    return sum_amicables\n",
    "\n",
    "print(sum_amicables(10000))"
   ]
  },
  {
   "cell_type": "markdown",
   "metadata": {},
   "source": [
    "### Problem 22: Names scores"
   ]
  },
  {
   "cell_type": "code",
   "execution_count": 60,
   "metadata": {},
   "outputs": [
    {
     "output_type": "stream",
     "name": "stdout",
     "text": "871198282\n"
    }
   ],
   "source": [
    "with open(\"p022_names.txt\", \"r\") as names_file:\n",
    "    names = names_file.readline()\n",
    "    list = names.split(\",\")\n",
    "    list_of_names = [name.strip(\"\\'\\\"\") for name in list]\n",
    "    list_of_names.sort()\n",
    "\n",
    "alphabet = \"abcdefghijklmnopqrstuvwxyz\"\n",
    "def word_worth(word):\n",
    "    worth = 0\n",
    "    for letter in word:\n",
    "        worth += alphabet.find(letter) + 1\n",
    "    return worth\n",
    "\n",
    "total_name_score = 0\n",
    "for word in list_of_names:\n",
    "    name_worth = word_worth(word.lower())\n",
    "    position = list_of_names.index(word)+1\n",
    "    name_score = name_worth*position\n",
    "    total_name_score += name_score\n",
    "print(total_name_score)"
   ]
  },
  {
   "cell_type": "markdown",
   "metadata": {},
   "source": [
    "### Problem 23: Non-abundant sums"
   ]
  },
  {
   "cell_type": "code",
   "execution_count": null,
   "metadata": {},
   "outputs": [],
   "source": []
  },
  {
   "cell_type": "markdown",
   "metadata": {},
   "source": [
    "### Problem 24: Lexicographic permutations"
   ]
  },
  {
   "cell_type": "code",
   "execution_count": null,
   "metadata": {},
   "outputs": [],
   "source": []
  },
  {
   "cell_type": "markdown",
   "metadata": {},
   "source": [
    "### Problem 25: 1000-digit Fibonacci number"
   ]
  },
  {
   "cell_type": "code",
   "execution_count": 61,
   "metadata": {},
   "outputs": [
    {
     "output_type": "stream",
     "name": "stdout",
     "text": "4782\n"
    }
   ],
   "source": [
    "fib_seqence = [1, 1]\n",
    "while len(str(fib_seqence[-1])) < 1000:\n",
    "    next_num = fib_seqence[-1] + fib_seqence[-2]\n",
    "    fib_seqence.append(next_num)\n",
    "print(len(fib_seqence))"
   ]
  },
  {
   "cell_type": "markdown",
   "metadata": {},
   "source": [
    "### Problem 26: Reciprocal cycles (incomplete)"
   ]
  },
  {
   "cell_type": "code",
   "execution_count": 4,
   "metadata": {},
   "outputs": [],
   "source": [
    "# for i in range(1, 1001):\n",
    "#     decimal = 1/i\n",
    "#     decimal_str = str(decimal)\n",
    "#     after_decimal = decimal_str.split(\".\")[1]"
   ]
  },
  {
   "cell_type": "markdown",
   "metadata": {},
   "source": [
    "### Problem 27: Quadratic primes"
   ]
  },
  {
   "cell_type": "code",
   "execution_count": 63,
   "metadata": {},
   "outputs": [],
   "source": [
    "# longest_string_n = 0\n",
    "# longest_string_a = 0\n",
    "# longest_string_b = 0\n",
    "\n",
    "# for a in range(-999, 1000):\n",
    "#     for b in range(-1000, 1001):\n",
    "#         if not is_prime(b):\n",
    "#             continue\n",
    "#         n = 0\n",
    "#         ns_yielding_primes = []\n",
    "#         possible_prime = n**2 + a*n + b\n",
    "#         while is_prime(possible_prime):\n",
    "#             possible_prime = n**2 + a*n + b\n",
    "#             ns_yielding_primes.append(n)\n",
    "#             n += 1\n",
    "#         if len(ns_yielding_primes) > longest_string_n:\n",
    "#             longest_string_n = len(ns_yielding_primes)\n",
    "#             longest_string_a = a\n",
    "#             longest_string_b = b\n",
    "# ab = longest_string_a*longest_string_b\n",
    "# print(f\"ab = {ab}\")"
   ]
  },
  {
   "cell_type": "markdown",
   "metadata": {},
   "source": [
    "### Problem 28: Number spiral diagonals"
   ]
  },
  {
   "cell_type": "code",
   "execution_count": null,
   "metadata": {},
   "outputs": [],
   "source": []
  },
  {
   "cell_type": "markdown",
   "metadata": {},
   "source": [
    "### Problem 29: Distinct powers"
   ]
  },
  {
   "cell_type": "code",
   "execution_count": 64,
   "metadata": {},
   "outputs": [
    {
     "output_type": "stream",
     "name": "stdout",
     "text": "9183\n"
    }
   ],
   "source": [
    "distinct_powers = []\n",
    "for a in range(2,101):\n",
    "    for b in range(2,101):\n",
    "        if not a**b in distinct_powers:\n",
    "            distinct_powers.append(a**b)\n",
    "distinct_powers.sort()\n",
    "print(len(distinct_powers))"
   ]
  },
  {
   "cell_type": "markdown",
   "metadata": {},
   "source": [
    "### Problem 30: Digit fifth powers"
   ]
  },
  {
   "cell_type": "code",
   "execution_count": 65,
   "metadata": {},
   "outputs": [],
   "source": [
    "# def sum_digit_fifth_powers(n):\n",
    "#     sum_digit_fifth_powers = 0\n",
    "#     for digit in str(n):\n",
    "#         sum_digit_fifth_powers += int(digit)**5\n",
    "#     return sum_digit_fifth_powers\n",
    "\n",
    "# final_nums = []\n",
    "# for n in range(2, 355000):\n",
    "#     if sum_digit_fifth_powers(n) == n:\n",
    "#         final_nums.append(n)\n",
    "\n",
    "# print(sum(final_nums))"
   ]
  },
  {
   "cell_type": "markdown",
   "metadata": {},
   "source": [
    "### Problem 31: Coin Sums"
   ]
  },
  {
   "cell_type": "code",
   "execution_count": 1,
   "metadata": {},
   "outputs": [
    {
     "output_type": "stream",
     "name": "stdout",
     "text": [
      "73682\n"
     ]
    }
   ],
   "source": [
    "counter = 1\n",
    "for a in range(3):\n",
    "    for b in range(5):\n",
    "        if 100 * a + 50 * b > 200:\n",
    "            break\n",
    "        for c in range(11):\n",
    "            if 100 * a + 50 * b + 20 * c > 200:\n",
    "                break\n",
    "            for d in range(21):\n",
    "                if 100 * a + 50 * b + 20 * c + 10 * d > 200:\n",
    "                    break\n",
    "                for e in range(41):\n",
    "                    if 100 * a + 50 * b + 20 * c + 10 * d  + 5 * e > 200:\n",
    "                        break\n",
    "                    for f in range(101):\n",
    "                        if 100 * a + 50 * b + 20 * c + 10 * d + 5 * e + 2 * f <= 200:\n",
    "                            counter += 1\n",
    "print(counter)"
   ]
  },
  {
   "source": [
    "### Problem 36: Double-base palindromes"
   ],
   "cell_type": "markdown",
   "metadata": {}
  },
  {
   "cell_type": "code",
   "execution_count": 29,
   "metadata": {},
   "outputs": [
    {
     "output_type": "stream",
     "name": "stdout",
     "text": [
      "1 1 1 1\n",
      "2 2 1 1\n",
      "3 3 11 11\n",
      "4 4 1 1\n",
      "5 5 101 101\n",
      "6 6 11 11\n",
      "7 7 111 111\n",
      "8 8 1 1\n",
      "9 9 1001 1001\n",
      "33 33 100001 100001\n",
      "66 66 100001 100001\n",
      "99 99 1100011 1100011\n",
      "252 252 111111 111111\n",
      "272 272 10001 10001\n",
      "292 292 1001001 1001001\n",
      "313 313 100111001 100111001\n",
      "585 585 1001001001 1001001001\n",
      "626 626 100111001 100111001\n",
      "717 717 1011001101 1011001101\n",
      "2112 2112 100001 100001\n",
      "2772 2772 1010110101 1010110101\n",
      "4224 4224 100001 100001\n",
      "6336 6336 1100011 1100011\n",
      "7447 7447 1110100010111 1110100010111\n",
      "8448 8448 100001 100001\n",
      "9009 9009 10001100110001 10001100110001\n",
      "15351 15351 11101111110111 11101111110111\n",
      "22122 22122 10101100110101 10101100110101\n",
      "25752 25752 110010010011 110010010011\n",
      "32223 32223 111110111011111 111110111011111\n",
      "39993 39993 1001110000111001 1001110000111001\n",
      "40904 40904 1001111111001 1001111111001\n",
      "44244 44244 10101100110101 10101100110101\n",
      "48384 48384 10111101 10111101\n",
      "53235 53235 1100111111110011 1100111111110011\n",
      "53835 53835 1101001001001011 1101001001001011\n",
      "63736 63736 1111100011111 1111100011111\n",
      "64446 64446 111110111011111 111110111011111\n",
      "73737 73737 10010000000001001 10010000000001001\n",
      "87978 87978 1010101111010101 1010101111010101\n",
      "88488 88488 10101100110101 10101100110101\n",
      "88788 88788 101011010110101 101011010110101\n",
      "292292 292292 10001110101110001 10001110101110001\n",
      "405504 405504 1100011 1100011\n",
      "409904 409904 110010000010011 110010000010011\n",
      "585585 585585 10001110111101110001 10001110111101110001\n",
      "2580149\n"
     ]
    }
   ],
   "source": [
    "sum_pals = 0\n",
    "for n in range(1,1000001):\n",
    "    n_str = str(n)\n",
    "    n_str_reversed = n_str[::-1]\n",
    "    bin_str = str(bin(n)).strip(\"0b\")\n",
    "    bin_str_reversed = bin_str[::-1]\n",
    "\n",
    "    if (n_str == n_str_reversed) and (bin_str == bin_str_reversed):\n",
    "        sum_pals += n\n",
    "        print(n_str, n_str_reversed, bin_str, bin_str_reversed)\n",
    "        # print(bin_str, bin_str_reversed)\n",
    "        if bin_str_reversed[-1] == \"0\" and len(bin_str_reversed) > 1:\n",
    "            print(bin_str)\n",
    "\n",
    "print(sum_pals)"
   ]
  },
  {
   "cell_type": "markdown",
   "metadata": {},
   "source": [
    "### Problem 67: Maximum path sum II"
   ]
  },
  {
   "cell_type": "code",
   "execution_count": 68,
   "metadata": {},
   "outputs": [
    {
     "output_type": "error",
     "ename": "TypeError",
     "evalue": "'list' object is not callable",
     "traceback": [
      "\u001b[0;31m---------------------------------------------------------------------------\u001b[0m",
      "\u001b[0;31mTypeError\u001b[0m                                 Traceback (most recent call last)",
      "\u001b[0;32m<ipython-input-68-070184859121>\u001b[0m in \u001b[0;36m<module>\u001b[0;34m\u001b[0m\n\u001b[1;32m      2\u001b[0m     \u001b[0mpyramid\u001b[0m \u001b[0;34m=\u001b[0m \u001b[0mpyramid_file\u001b[0m\u001b[0;34m.\u001b[0m\u001b[0mreadlines\u001b[0m\u001b[0;34m(\u001b[0m\u001b[0;34m)\u001b[0m\u001b[0;34m\u001b[0m\u001b[0;34m\u001b[0m\u001b[0m\n\u001b[1;32m      3\u001b[0m     \u001b[0mlines\u001b[0m \u001b[0;34m=\u001b[0m \u001b[0;34m[\u001b[0m\u001b[0mline\u001b[0m\u001b[0;34m.\u001b[0m\u001b[0mstrip\u001b[0m\u001b[0;34m(\u001b[0m\u001b[0;34m\"\\n\"\u001b[0m\u001b[0;34m)\u001b[0m\u001b[0;34m.\u001b[0m\u001b[0msplit\u001b[0m\u001b[0;34m(\u001b[0m\u001b[0;34m)\u001b[0m \u001b[0;32mfor\u001b[0m \u001b[0mline\u001b[0m \u001b[0;32min\u001b[0m \u001b[0mpyramid\u001b[0m\u001b[0;34m]\u001b[0m\u001b[0;34m\u001b[0m\u001b[0;34m\u001b[0m\u001b[0m\n\u001b[0;32m----> 4\u001b[0;31m     \u001b[0mlists\u001b[0m \u001b[0;34m=\u001b[0m \u001b[0;34m[\u001b[0m\u001b[0mlist\u001b[0m\u001b[0;34m(\u001b[0m\u001b[0mmap\u001b[0m\u001b[0;34m(\u001b[0m\u001b[0mint\u001b[0m\u001b[0;34m,\u001b[0m \u001b[0mline\u001b[0m\u001b[0;34m)\u001b[0m\u001b[0;34m)\u001b[0m \u001b[0;32mfor\u001b[0m \u001b[0mline\u001b[0m \u001b[0;32min\u001b[0m \u001b[0mlines\u001b[0m\u001b[0;34m]\u001b[0m\u001b[0;34m\u001b[0m\u001b[0;34m\u001b[0m\u001b[0m\n\u001b[0m\u001b[1;32m      5\u001b[0m     \u001b[0mlists\u001b[0m\u001b[0;34m.\u001b[0m\u001b[0mreverse\u001b[0m\u001b[0;34m(\u001b[0m\u001b[0;34m)\u001b[0m\u001b[0;34m\u001b[0m\u001b[0;34m\u001b[0m\u001b[0m\n\u001b[1;32m      6\u001b[0m \u001b[0;34m\u001b[0m\u001b[0m\n",
      "\u001b[0;32m<ipython-input-68-070184859121>\u001b[0m in \u001b[0;36m<listcomp>\u001b[0;34m(.0)\u001b[0m\n\u001b[1;32m      2\u001b[0m     \u001b[0mpyramid\u001b[0m \u001b[0;34m=\u001b[0m \u001b[0mpyramid_file\u001b[0m\u001b[0;34m.\u001b[0m\u001b[0mreadlines\u001b[0m\u001b[0;34m(\u001b[0m\u001b[0;34m)\u001b[0m\u001b[0;34m\u001b[0m\u001b[0;34m\u001b[0m\u001b[0m\n\u001b[1;32m      3\u001b[0m     \u001b[0mlines\u001b[0m \u001b[0;34m=\u001b[0m \u001b[0;34m[\u001b[0m\u001b[0mline\u001b[0m\u001b[0;34m.\u001b[0m\u001b[0mstrip\u001b[0m\u001b[0;34m(\u001b[0m\u001b[0;34m\"\\n\"\u001b[0m\u001b[0;34m)\u001b[0m\u001b[0;34m.\u001b[0m\u001b[0msplit\u001b[0m\u001b[0;34m(\u001b[0m\u001b[0;34m)\u001b[0m \u001b[0;32mfor\u001b[0m \u001b[0mline\u001b[0m \u001b[0;32min\u001b[0m \u001b[0mpyramid\u001b[0m\u001b[0;34m]\u001b[0m\u001b[0;34m\u001b[0m\u001b[0;34m\u001b[0m\u001b[0m\n\u001b[0;32m----> 4\u001b[0;31m     \u001b[0mlists\u001b[0m \u001b[0;34m=\u001b[0m \u001b[0;34m[\u001b[0m\u001b[0mlist\u001b[0m\u001b[0;34m(\u001b[0m\u001b[0mmap\u001b[0m\u001b[0;34m(\u001b[0m\u001b[0mint\u001b[0m\u001b[0;34m,\u001b[0m \u001b[0mline\u001b[0m\u001b[0;34m)\u001b[0m\u001b[0;34m)\u001b[0m \u001b[0;32mfor\u001b[0m \u001b[0mline\u001b[0m \u001b[0;32min\u001b[0m \u001b[0mlines\u001b[0m\u001b[0;34m]\u001b[0m\u001b[0;34m\u001b[0m\u001b[0;34m\u001b[0m\u001b[0m\n\u001b[0m\u001b[1;32m      5\u001b[0m     \u001b[0mlists\u001b[0m\u001b[0;34m.\u001b[0m\u001b[0mreverse\u001b[0m\u001b[0;34m(\u001b[0m\u001b[0;34m)\u001b[0m\u001b[0;34m\u001b[0m\u001b[0;34m\u001b[0m\u001b[0m\n\u001b[1;32m      6\u001b[0m \u001b[0;34m\u001b[0m\u001b[0m\n",
      "\u001b[0;31mTypeError\u001b[0m: 'list' object is not callable"
     ]
    }
   ],
   "source": [
    "with open(\"p067_triangle.txt\", \"r\") as pyramid_file:\n",
    "    pyramid = pyramid_file.readlines()             \n",
    "    lines = [line.strip(\"\\n\").split() for line in pyramid]\n",
    "    lists = [list(map(int, line)) for line in lines]\n",
    "    lists.reverse()\n",
    "\n",
    "for i in range(len(lists)-1):\n",
    "    for num in range(len(lists[i])-1):\n",
    "        if lists[i][num] > lists[i][num+1]:\n",
    "            lists[i+1][num] += lists[i][num]\n",
    "        else:\n",
    "            lists[i+1][num] += lists[i][num+1]\n",
    "print(lists[-1][0])"
   ]
  },
  {
   "cell_type": "code",
   "execution_count": null,
   "metadata": {},
   "outputs": [],
   "source": []
  }
 ],
 "metadata": {
  "language_info": {
   "codemirror_mode": {
    "name": "ipython",
    "version": 3
   },
   "file_extension": ".py",
   "mimetype": "text/x-python",
   "name": "python",
   "nbconvert_exporter": "python",
   "pygments_lexer": "ipython3",
   "version": "3.8.5-final"
  },
  "orig_nbformat": 2,
  "kernelspec": {
   "name": "python3",
   "display_name": "Python 3"
  }
 },
 "nbformat": 4,
 "nbformat_minor": 2
}